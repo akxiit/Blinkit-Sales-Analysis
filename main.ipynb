{
 "cells": [
  {
   "cell_type": "code",
   "execution_count": 1,
   "metadata": {},
   "outputs": [],
   "source": [
    "import pandas as pd\n",
    "import numpy as np"
   ]
  },
  {
   "cell_type": "code",
   "execution_count": 7,
   "metadata": {},
   "outputs": [
    {
     "data": {
      "text/html": [
       "<div>\n",
       "<style scoped>\n",
       "    .dataframe tbody tr th:only-of-type {\n",
       "        vertical-align: middle;\n",
       "    }\n",
       "\n",
       "    .dataframe tbody tr th {\n",
       "        vertical-align: top;\n",
       "    }\n",
       "\n",
       "    .dataframe thead th {\n",
       "        text-align: right;\n",
       "    }\n",
       "</style>\n",
       "<table border=\"1\" class=\"dataframe\">\n",
       "  <thead>\n",
       "    <tr style=\"text-align: right;\">\n",
       "      <th></th>\n",
       "    </tr>\n",
       "  </thead>\n",
       "  <tbody>\n",
       "  </tbody>\n",
       "</table>\n",
       "</div>"
      ],
      "text/plain": [
       "Empty DataFrame\n",
       "Columns: []\n",
       "Index: []"
      ]
     },
     "execution_count": 7,
     "metadata": {},
     "output_type": "execute_result"
    }
   ],
   "source": [
    "master_table = pd.DataFrame()\n",
    "master_table"
   ]
  },
  {
   "cell_type": "code",
   "execution_count": null,
   "metadata": {},
   "outputs": [],
   "source": [
    "customer_feedback = pd.read_csv('Excel-dataset/blinkit_customer_feedback.csv')\n",
    "customers = pd.read_csv('Excel-dataset/blinkit_customers.csv')\n",
    "delivery_performance = pd.read_csv('Excel-dataset/blinkit_delivery_performance.csv') #nan values\n",
    "inventory = pd.read_csv('Excel-dataset/blinkit_inventory.csv')\n",
    "marketin_performance = pd.read_csv('Excel-dataset/blinkit_marketing_performance.csv')\n",
    "order_items = pd.read_csv('Excel-dataset/blinkit_order_items.csv')  \n",
    "orders = pd.read_csv('Excel-dataset/blinkit_orders.csv')\n",
    "products = pd.read_csv('Excel-dataset/blinkit_products.csv')\n",
    "Category_Icons = pd.read_excel('Excel-dataset/Category_Icons.xlsx')\n",
    "Rating_Icon = pd.read_excel('Excel-dataset/Rating_Icon.xlsx')"
   ]
  },
  {
   "cell_type": "code",
   "execution_count": 34,
   "metadata": {},
   "outputs": [
    {
     "data": {
      "text/plain": [
       "Index(['order_id', 'customer_id', 'order_date', 'promised_delivery_time',\n",
       "       'actual_delivery_time', 'delivery_status', 'order_total',\n",
       "       'payment_method', 'delivery_partner_id', 'store_id'],\n",
       "      dtype='object')"
      ]
     },
     "execution_count": 34,
     "metadata": {},
     "output_type": "execute_result"
    }
   ],
   "source": [
    "orders.columns"
   ]
  },
  {
   "cell_type": "code",
   "execution_count": null,
   "metadata": {},
   "outputs": [],
   "source": []
  }
 ],
 "metadata": {
  "kernelspec": {
   "display_name": "Python 3",
   "language": "python",
   "name": "python3"
  },
  "language_info": {
   "codemirror_mode": {
    "name": "ipython",
    "version": 3
   },
   "file_extension": ".py",
   "mimetype": "text/x-python",
   "name": "python",
   "nbconvert_exporter": "python",
   "pygments_lexer": "ipython3",
   "version": "3.13.0"
  }
 },
 "nbformat": 4,
 "nbformat_minor": 2
}
